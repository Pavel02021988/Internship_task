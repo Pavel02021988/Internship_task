{
  "nbformat": 4,
  "nbformat_minor": 0,
  "metadata": {
    "colab": {
      "name": "task1.ipynb",
      "provenance": [],
      "collapsed_sections": []
    },
    "kernelspec": {
      "name": "python3",
      "display_name": "Python 3"
    }
  },
  "cells": [
    {
      "cell_type": "code",
      "metadata": {
        "id": "NKrvIscAUDSM",
        "colab_type": "code",
        "colab": {
          "base_uri": "https://localhost:8080/",
          "height": 34
        },
        "outputId": "72d03d32-dce8-43a2-8c28-c09e3cafbf56"
      },
      "source": [
        "# Решение c помощью алгоритма Джея Кадана\n",
        "def max_sum_subarray(A):\n",
        "# проверка на наличие элементов в массиве\n",
        "  if len(A)  == 0:\n",
        "    return print('Пустой массив')\n",
        "# в алгоритме будем отслеживать текущую и максимальную сумму подмассивов       \n",
        "  current_sum = 0\n",
        "  max_sum = A[0]\n",
        "  start = 0; end = 0; point = 0\n",
        "  for i in range(0, len(A)):\n",
        "    current_sum += A[i]\n",
        "# если текущая сумма больше максимальной - обновляем максимум    \n",
        "    if max_sum < current_sum:\n",
        "      max_sum = current_sum\n",
        "      start = point\n",
        "      end = i\n",
        "# если текущая сумма меньше нуля - обнуляем и начинаем подмассив с новой позиции     \n",
        "    if current_sum < 0:\n",
        "      current_sum = 0\n",
        "      point = i + 1\n",
        "  return A[start:end + 1] \n",
        "A =   [-2,1,-3,4,-1,2,1,-5,4] \n",
        "max_sum_subarray(A)      "
      ],
      "execution_count": null,
      "outputs": [
        {
          "output_type": "execute_result",
          "data": {
            "text/plain": [
              "[4, -1, 2, 1]"
            ]
          },
          "metadata": {
            "tags": []
          },
          "execution_count": 9
        }
      ]
    }
  ]
}